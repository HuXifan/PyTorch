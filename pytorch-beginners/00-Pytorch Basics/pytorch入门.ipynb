{
 "cells": [
  {
   "cell_type": "code",
   "execution_count": 1,
   "metadata": {},
   "outputs": [],
   "source": [
    "import torch\n",
    "from __future__ import print_function"
   ]
  },
  {
   "cell_type": "markdown",
   "metadata": {},
   "source": [
    "## demo"
   ]
  },
  {
   "cell_type": "code",
   "execution_count": 6,
   "metadata": {},
   "outputs": [
    {
     "name": "stdout",
     "output_type": "stream",
     "text": [
      "tensor([[0.1821, 0.7785, 0.5872],\n",
      "        [0.8605, 0.2647, 0.9221],\n",
      "        [0.0698, 0.3456, 0.8195],\n",
      "        [0.1355, 0.7510, 0.6010],\n",
      "        [0.7352, 0.8300, 0.8166]])\n"
     ]
    }
   ],
   "source": [
    "x = torch.rand(5,3)\n",
    "print(x)"
   ]
  },
  {
   "cell_type": "code",
   "execution_count": 7,
   "metadata": {},
   "outputs": [
    {
     "name": "stdout",
     "output_type": "stream",
     "text": [
      "tensor([[0, 0, 0],\n",
      "        [0, 0, 0],\n",
      "        [0, 0, 0],\n",
      "        [0, 0, 0],\n",
      "        [0, 0, 0]])\n"
     ]
    }
   ],
   "source": [
    "y1 = torch.zeros(5,3, dtype=torch.long)\n",
    "print(y1)  # 构造一个矩阵全为0，而且数据类型是long。"
   ]
  },
  {
   "cell_type": "code",
   "execution_count": 15,
   "metadata": {},
   "outputs": [
    {
     "name": "stdout",
     "output_type": "stream",
     "text": [
      "tensor([5.5000, 3.0000]) \n",
      " tensor([[1., 1., 1.],\n",
      "        [1., 1., 1.],\n",
      "        [1., 1., 1.],\n",
      "        [1., 1., 1.],\n",
      "        [1., 1., 1.]], dtype=torch.float64)\n"
     ]
    }
   ],
   "source": [
    "z = torch.tensor([5.5,3])\n",
    "z1 = z.new_ones(5,3,dtype=torch.double)\n",
    "print(z,'\\n' ,z1)"
   ]
  },
  {
   "cell_type": "code",
   "execution_count": 22,
   "metadata": {},
   "outputs": [
    {
     "name": "stdout",
     "output_type": "stream",
     "text": [
      "tensor([[9.2755e-39, 1.0561e-38, 9.5510e-39],\n",
      "        [1.1020e-38, 9.3674e-39, 4.2246e-39],\n",
      "        [1.0286e-38, 1.0653e-38, 1.0194e-38],\n",
      "        [8.4490e-39, 1.0469e-38, 9.3674e-39],\n",
      "        [9.9184e-39, 8.7245e-39, 9.2755e-39]])\n"
     ]
    }
   ],
   "source": [
    "x= torch.empty(5,3)\n",
    "print(x)"
   ]
  },
  {
   "cell_type": "code",
   "execution_count": 25,
   "metadata": {},
   "outputs": [
    {
     "name": "stdout",
     "output_type": "stream",
     "text": [
      "tensor([5.5000, 3.0000])\n"
     ]
    }
   ],
   "source": [
    "x= torch.tensor([5.5,3])  # 构造一个张量 直接使用数据\n",
    "print(x)"
   ]
  },
  {
   "cell_type": "code",
   "execution_count": 26,
   "metadata": {},
   "outputs": [
    {
     "name": "stdout",
     "output_type": "stream",
     "text": [
      "tensor([[1., 1., 1.],\n",
      "        [1., 1., 1.],\n",
      "        [1., 1., 1.],\n",
      "        [1., 1., 1.],\n",
      "        [1., 1., 1.]], dtype=torch.float64)\n",
      "tensor([[-2.3801,  0.9386,  0.4578],\n",
      "        [-0.5879,  0.6521, -0.6175],\n",
      "        [-0.3067, -0.1512, -0.0473],\n",
      "        [ 1.1383, -0.4103, -1.1618],\n",
      "        [ 1.8791, -0.7606, -0.0700]])\n"
     ]
    }
   ],
   "source": [
    "#  创建一个tensor基于已经存在的tensor。\n",
    "x = x.new_ones(5,3,dtype=torch.double)\n",
    "# new_* methods take in sizes\n",
    "print(x)\n",
    "x = torch.randn_like(x,dtype=torch.float)\n",
    "# override dtype!\n",
    "print(x)"
   ]
  },
  {
   "cell_type": "code",
   "execution_count": 27,
   "metadata": {},
   "outputs": [
    {
     "name": "stdout",
     "output_type": "stream",
     "text": [
      "torch.Size([5, 3])\n"
     ]
    }
   ],
   "source": [
    "print(x.size())  # 获取它的尺寸信息：\n",
    "# torch.Size是一个元组，所以它支持左右的元组操作。"
   ]
  },
  {
   "cell_type": "markdown",
   "metadata": {},
   "source": [
    "## 操作"
   ]
  },
  {
   "cell_type": "code",
   "execution_count": 33,
   "metadata": {},
   "outputs": [
    {
     "name": "stdout",
     "output_type": "stream",
     "text": [
      "tensor([[0.0661, 0.0469, 0.6814],\n",
      "        [0.0370, 0.8703, 0.3605],\n",
      "        [0.4094, 0.6533, 0.1181],\n",
      "        [0.4737, 0.9254, 0.9681],\n",
      "        [0.8748, 0.6805, 0.3890]])\n",
      "tensor([[-2.3141,  0.9854,  1.1392],\n",
      "        [-0.5509,  1.5224, -0.2570],\n",
      "        [ 0.1026,  0.5021,  0.0708],\n",
      "        [ 1.6120,  0.5151, -0.1938],\n",
      "        [ 2.7539, -0.0801,  0.3190]])\n",
      "tensor([[-2.3141,  0.9854,  1.1392],\n",
      "        [-0.5509,  1.5224, -0.2570],\n",
      "        [ 0.1026,  0.5021,  0.0708],\n",
      "        [ 1.6120,  0.5151, -0.1938],\n",
      "        [ 2.7539, -0.0801,  0.3190]])\n",
      "tensor([[-2.3141,  0.9854,  1.1392],\n",
      "        [-0.5509,  1.5224, -0.2570],\n",
      "        [ 0.1026,  0.5021,  0.0708],\n",
      "        [ 1.6120,  0.5151, -0.1938],\n",
      "        [ 2.7539, -0.0801,  0.3190]])\n",
      "tensor([[-4.6942,  1.9240,  1.5970],\n",
      "        [-1.1388,  2.1746, -0.8745],\n",
      "        [-0.2041,  0.3509,  0.0236],\n",
      "        [ 2.7503,  0.1048, -1.3556],\n",
      "        [ 4.6331, -0.8408,  0.2490]])\n"
     ]
    }
   ],
   "source": [
    "y = torch.rand(5, 3)\n",
    "print(y)\n",
    "print(x + y)\n",
    "print(torch.add(x,y))\n",
    "print(y.add_(x))\n",
    "# 加法：提供一个输出tensor作为参数\n",
    "result = torch.empty(5, 3)\n",
    "print(torch.add(x,y,out=result))"
   ]
  },
  {
   "cell_type": "code",
   "execution_count": 36,
   "metadata": {},
   "outputs": [
    {
     "name": "stdout",
     "output_type": "stream",
     "text": [
      "tensor([[-2.3801,  0.9386,  0.4578],\n",
      "        [-0.5879,  0.6521, -0.6175],\n",
      "        [-0.3067, -0.1512, -0.0473],\n",
      "        [ 1.1383, -0.4103, -1.1618],\n",
      "        [ 1.8791, -0.7606, -0.0700]])\n",
      "tensor([ 0.9386,  0.6521, -0.1512, -0.4103, -0.7606])\n",
      "tensor([[-2.3801,  0.9386,  0.4578],\n",
      "        [-0.5879,  0.6521, -0.6175],\n",
      "        [-0.3067, -0.1512, -0.0473],\n",
      "        [ 1.1383, -0.4103, -1.1618],\n",
      "        [ 1.8791, -0.7606, -0.0700]])\n"
     ]
    }
   ],
   "source": [
    "print(x)\n",
    "print(x[:,1])  # 取x第二列\n",
    "print(x)"
   ]
  },
  {
   "cell_type": "code",
   "execution_count": 49,
   "metadata": {},
   "outputs": [
    {
     "name": "stdout",
     "output_type": "stream",
     "text": [
      "tensor([[ 0.2911, -0.3453, -1.1766, -1.2886],\n",
      "        [-0.3224, -0.2822,  0.8725, -0.1713],\n",
      "        [ 1.4680,  0.5184, -0.1978, -0.5404],\n",
      "        [ 0.8219, -0.5826, -0.4954, -0.3840]])\n",
      "torch.Size([4, 4])\n",
      "tensor([ 0.2911, -0.3453, -1.1766, -1.2886, -0.3224, -0.2822,  0.8725, -0.1713,\n",
      "         1.4680,  0.5184, -0.1978, -0.5404,  0.8219, -0.5826, -0.4954, -0.3840])\n",
      "torch.Size([16])\n",
      "tensor([[ 0.2911, -0.3453, -1.1766, -1.2886, -0.3224, -0.2822,  0.8725, -0.1713],\n",
      "        [ 1.4680,  0.5184, -0.1978, -0.5404,  0.8219, -0.5826, -0.4954, -0.3840]])\n",
      "torch.Size([2, 8])\n"
     ]
    }
   ],
   "source": [
    "#改变大小：如果你想改变一个tensor的大小或者形状，你可以使用torch.view：\n",
    "x = torch.randn(4,4)\n",
    "print(x)\n",
    "print(x.size())\n",
    "y = x.view(16)\n",
    "z = x.view(-1,8)\n",
    "print(y)\n",
    "print(y.size())\n",
    "print(z)\n",
    "print(z.size())"
   ]
  },
  {
   "cell_type": "code",
   "execution_count": 55,
   "metadata": {},
   "outputs": [
    {
     "name": "stdout",
     "output_type": "stream",
     "text": [
      "tensor([0.8705])\n",
      "0.870497465133667\n"
     ]
    }
   ],
   "source": [
    "# 如果你有一个元素tensor，使用.item（）来获得这个value。\n",
    "x = torch.randn(1)\n",
    "print(x)\n",
    "print(x.item())"
   ]
  },
  {
   "cell_type": "code",
   "execution_count": null,
   "metadata": {},
   "outputs": [],
   "source": []
  }
 ],
 "metadata": {
  "kernelspec": {
   "display_name": "Python 3",
   "language": "python",
   "name": "python3"
  },
  "language_info": {
   "codemirror_mode": {
    "name": "ipython",
    "version": 3
   },
   "file_extension": ".py",
   "mimetype": "text/x-python",
   "name": "python",
   "nbconvert_exporter": "python",
   "pygments_lexer": "ipython3",
   "version": "3.6.5"
  }
 },
 "nbformat": 4,
 "nbformat_minor": 2
}
